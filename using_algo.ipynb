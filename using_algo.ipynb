{
 "cells": [
  {
   "cell_type": "code",
   "execution_count": 1,
   "id": "14853f30-74d5-4408-8f7b-4235e3be3cc6",
   "metadata": {},
   "outputs": [],
   "source": [
    "import pickle as pkl\n",
    "import numpy as np\n",
    "import pandas as pd"
   ]
  },
  {
   "cell_type": "code",
   "execution_count": 2,
   "id": "b6cbd10e-cd21-40e3-8191-d613a580a3ef",
   "metadata": {},
   "outputs": [
    {
     "name": "stdin",
     "output_type": "stream",
     "text": [
      "enter input name: Ford\n",
      "enter car name: Figo\n",
      "enter year: 2012\n",
      "enter kms driven: 23454\n",
      "enter fuel type: Petrol\n"
     ]
    },
    {
     "name": "stdout",
     "output_type": "stream",
     "text": [
      "You should buy it for price: 189180\n"
     ]
    }
   ],
   "source": [
    "company = input(\"enter input name:\")\n",
    "name = input(\"enter car name:\")\n",
    "year = input(\"enter year:\")\n",
    "kms_driven = int(input(\"enter kms driven:\"))\n",
    "fuel_type = input(\"enter fuel type:\")\n",
    "columns = [\"company\",\"name\",\"year\",\"kms_driven\",\"fuel_type\"]\n",
    "myinput = pd.DataFrame(columns = columns,data=[[company , name,year,kms_driven,fuel_type]])\n",
    "\n",
    "pipe = pkl.load(open(\"car_price_model.pkl\",\"rb\"))\n",
    "\n",
    "result = pipe.predict(myinput)\n",
    "print(\"You should buy it for price:\",round(result[0]))"
   ]
  },
  {
   "cell_type": "code",
   "execution_count": null,
   "id": "aab42e4f-e4a1-4453-9826-ccedf5141d68",
   "metadata": {},
   "outputs": [],
   "source": []
  },
  {
   "cell_type": "code",
   "execution_count": null,
   "id": "2668eabb-0d06-40ff-baf5-599fdb7f147b",
   "metadata": {},
   "outputs": [],
   "source": []
  }
 ],
 "metadata": {
  "kernelspec": {
   "display_name": "Python 3 (ipykernel)",
   "language": "python",
   "name": "python3"
  },
  "language_info": {
   "codemirror_mode": {
    "name": "ipython",
    "version": 3
   },
   "file_extension": ".py",
   "mimetype": "text/x-python",
   "name": "python",
   "nbconvert_exporter": "python",
   "pygments_lexer": "ipython3",
   "version": "3.12.7"
  }
 },
 "nbformat": 4,
 "nbformat_minor": 5
}
